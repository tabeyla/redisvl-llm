{
 "cells": [
  {
   "cell_type": "markdown",
   "metadata": {},
   "source": [
    "## Redis Connection"
   ]
  },
  {
   "cell_type": "code",
   "execution_count": null,
   "metadata": {
    "id": "9ad187e8"
   },
   "outputs": [],
   "source": [
    "import os\n",
    "import warnings\n",
    "\n",
    "warnings.filterwarnings('ignore')\n",
    "\n",
    "# Replace values below with your own if using Redis Cloud instance\n",
    "REDIS_HOST = os.getenv(\"REDIS_HOST\", \"localhost\") # ex: \"redis-18374.c253.us-central1-1.gce.cloud.redislabs.com\"\n",
    "REDIS_PORT = os.getenv(\"REDIS_PORT\", \"6379\")      # ex: 18374\n",
    "REDIS_PASSWORD = os.getenv(\"REDIS_PASSWORD\", \"\")  # ex: \"1TNxTEdYRDgIDKM2gDfasupCADXXXX\"\n",
    "\n",
    "# If SSL is enabled on the endpoint, use rediss:// as the URL prefix\n",
    "REDIS_URL = f\"redis://:{REDIS_PASSWORD}@{REDIS_HOST}:{REDIS_PORT}\""
   ]
  },
  {
   "cell_type": "code",
   "execution_count": null,
   "metadata": {
    "colab": {
     "base_uri": "https://localhost:8080/"
    },
    "id": "5pfwqHOcqaM_",
    "outputId": "e235bedc-1421-4de7-e7dc-0b09472a35a3"
   },
   "outputs": [],
   "source": [
    "from redis import Redis\n",
    "\n",
    "client = Redis.from_url(REDIS_URL)\n",
    "client.ping()"
   ]
  },
  {
   "cell_type": "markdown",
   "metadata": {},
   "source": [
    "## DataSet Preparation"
   ]
  },
  {
   "cell_type": "code",
   "execution_count": null,
   "metadata": {
    "colab": {
     "base_uri": "https://localhost:8080/",
     "height": 223
    },
    "id": "Jx80MJF_sgYE",
    "outputId": "709960c6-3cd3-490d-c2c8-86854cad63c7"
   },
   "outputs": [],
   "source": [
    "import pandas as pd\n",
    "import numpy as np\n",
    "import json\n",
    "\n",
    "df = pd.read_json(\"movies.json\")\n",
    "print(\"Loaded\", len(df), \"movie entries\")\n",
    "\n",
    "df.head()"
   ]
  },
  {
   "cell_type": "code",
   "execution_count": null,
   "metadata": {
    "id": "SxrE9euAso-r"
   },
   "outputs": [],
   "source": [
    "from redisvl.utils.vectorize import HFTextVectorizer\n",
    "from redisvl.extensions.cache.embeddings import EmbeddingsCache\n",
    "\n",
    "\n",
    "hf = HFTextVectorizer(\n",
    "    model = \"sentence-transformers/all-MiniLM-L6-v2\",\n",
    "    cache = EmbeddingsCache(\n",
    "        name=\"movies_cache\",\n",
    "        ttl=600,\n",
    "        redis_client=client\n",
    "    )\n",
    ")"
   ]
  },
  {
   "cell_type": "code",
   "execution_count": null,
   "metadata": {
    "colab": {
     "base_uri": "https://localhost:8080/",
     "height": 206
    },
    "id": "tg_K6JFEtUsA",
    "outputId": "177d066f-16e3-47e9-9cdf-feb69cbb02b0"
   },
   "outputs": [],
   "source": [
    "df[\"vector\"] = hf.embed_many(df[\"description\"].tolist(), as_buffer=True)\n",
    "df.head()"
   ]
  },
  {
   "cell_type": "markdown",
   "metadata": {
    "id": "mezNLOMCtvDw"
   },
   "source": [
    "# Define Redis Index Schema"
   ]
  },
  {
   "cell_type": "code",
   "execution_count": null,
   "metadata": {
    "id": "dn2VssaYt0gI"
   },
   "outputs": [],
   "source": [
    "from redisvl.schema import IndexSchema\n",
    "from redisvl.index import SearchIndex\n",
    "\n",
    "\n",
    "index_name = \"movies\"\n",
    "\n",
    "\n",
    "schema = IndexSchema.from_dict({\n",
    "\n",
    "    \"index\": {\n",
    "        \"name\": index_name,\n",
    "        \"prefix\": index_name,\n",
    "        \"storage_type\": \"hash\",\n",
    "    },\n",
    "    \"fields\": [\n",
    "        {\n",
    "            \"name\": \"title\",\n",
    "            \"type\": \"text\",\n",
    "\n",
    "        },\n",
    "        {\n",
    "            \"name\": \"description\",\n",
    "            \"type\": \"text\",\n",
    "        },\n",
    "        {\n",
    "            \"name\": \"genre\",\n",
    "            \"type\": \"tag\",\n",
    "            \"attrs\":{\n",
    "                \"sortable\": True\n",
    "            }\n",
    "        },\n",
    "        {\n",
    "            \"name\": \"rating\",\n",
    "            \"type\": \"numeric\",\n",
    "            \"attrs\":{\n",
    "                \"sortable\": True\n",
    "            }\n",
    "        },\n",
    "        {\n",
    "            \"name\": \"vector\",\n",
    "            \"type\": \"vector\",\n",
    "            \"attrs\" : {\n",
    "                       \"dims\": 384,\n",
    "            \"distance_metric\": \"cosine\",\n",
    "            \"datatype\": \"float32\",\n",
    "            \"algorithm\": \"hnsw\"\n",
    "            }\n",
    "\n",
    "        }\n",
    "\n",
    "\n",
    "\n",
    "     ]\n",
    "\n",
    "})\n",
    "\n",
    "index = SearchIndex(schema, client)\n",
    "index.create(overwrite=True, drop=True)\n",
    "\n"
   ]
  },
  {
   "cell_type": "code",
   "execution_count": null,
   "metadata": {
    "colab": {
     "base_uri": "https://localhost:8080/"
    },
    "id": "S_8_GNvDwAbl",
    "outputId": "b5835d10-efa8-4e1f-8e62-9707b84110ac"
   },
   "outputs": [],
   "source": [
    "!rvl index info -i movies -u {REDIS_URL}"
   ]
  },
  {
   "cell_type": "markdown",
   "metadata": {
    "id": "iQLF_ghOwIZ_"
   },
   "source": [
    "# Populate Index\n"
   ]
  },
  {
   "cell_type": "code",
   "execution_count": null,
   "metadata": {
    "colab": {
     "base_uri": "https://localhost:8080/"
    },
    "id": "gwF32135wMgv",
    "outputId": "110249eb-56bf-4c20-8f59-510060a6b2ad"
   },
   "outputs": [],
   "source": [
    "index.load(df.to_dict(orient=\"records\"))"
   ]
  },
  {
   "cell_type": "markdown",
   "metadata": {
    "id": "0BhRSzpXwZvQ"
   },
   "source": [
    "# Search Techniques"
   ]
  },
  {
   "cell_type": "markdown",
   "metadata": {
    "id": "ZRrBjY-9wfJH"
   },
   "source": [
    "### Standard Vector Search"
   ]
  },
  {
   "cell_type": "code",
   "execution_count": null,
   "metadata": {
    "colab": {
     "base_uri": "https://localhost:8080/",
     "height": 143
    },
    "id": "IYC4_BBpwjdI",
    "outputId": "026f73fb-d1ff-454f-e7aa-1cff1721b02c"
   },
   "outputs": [],
   "source": [
    "from redisvl.query import VectorQuery\n",
    "\n",
    "user_query = \"High tech and action packed movie\"\n",
    "\n",
    "embedded_user_query = hf.embed(user_query)\n",
    "\n",
    "vec_query = VectorQuery(\n",
    "    vector=embedded_user_query,\n",
    "    vector_field_name=\"vector\",\n",
    "    num_results=3,\n",
    "    return_fields=[\"title\", \"genre\"],\n",
    "    return_score=True\n",
    ")\n",
    "\n",
    "\n",
    "result = index.query(vec_query)\n",
    "pd.DataFrame(result)\n"
   ]
  },
  {
   "cell_type": "markdown",
   "metadata": {
    "id": "0aKnIayi4Qqt"
   },
   "source": [
    "### Vector Search with Filters"
   ]
  },
  {
   "cell_type": "code",
   "execution_count": null,
   "metadata": {
    "colab": {
     "base_uri": "https://localhost:8080/",
     "height": 143
    },
    "id": "q__XiKsM4Tof",
    "outputId": "47283a4e-568b-4137-e5bf-0af8eebde83a"
   },
   "outputs": [],
   "source": [
    "from redisvl.query.filter import Tag\n",
    "\n",
    "\n",
    "tag_filter = Tag(\"genre\") == \"action\"\n",
    "vec_query.set_filter(tag_filter)\n",
    "\n",
    "result = index.query(vec_query)\n",
    "pd.DataFrame(result)"
   ]
  },
  {
   "cell_type": "code",
   "execution_count": null,
   "metadata": {
    "id": "29jMwuS4zq2E"
   },
   "outputs": [],
   "source": [
    "from redisvl.query import HybridQuery\n",
    "\n",
    "user_query = \"action adventure movie with great fighting scenes against a dangerous criminal, crime busting, superheroes, and magic\"\n",
    "# user_query = \"movie in which there is a hero. He fights\"\n",
    "embedded_user_query = hf.embed(user_query)\n",
    "\n",
    "hybrid_query = HybridQuery(\n",
    "    vector=embedded_user_query,\n",
    "    vector_field_name=\"vector\",\n",
    "    text=user_query,\n",
    "    text_field_name=\"description\",\n",
    "    alpha=0.25,\n",
    "    text_scorer=\"TFIDF\",\n",
    "    return_fields = [\"title\"]\n",
    ")\n",
    "\n",
    "results = index.query(hybrid_query)\n",
    "results[:3]"
   ]
  },
  {
   "cell_type": "markdown",
   "metadata": {
    "id": "8m3UoEU6zpPH"
   },
   "source": [
    "## Hybrid Search\n"
   ]
  },
  {
   "cell_type": "code",
   "execution_count": null,
   "metadata": {},
   "outputs": [],
   "source": [
    "hybrid_query._build_query_string()"
   ]
  },
  {
   "cell_type": "code",
   "execution_count": null,
   "metadata": {},
   "outputs": [],
   "source": []
  }
 ],
 "metadata": {
  "colab": {
   "provenance": [],
   "toc_visible": true
  },
  "kernelspec": {
   "display_name": "Python 3 (ipykernel)",
   "language": "python",
   "name": "python3"
  },
  "language_info": {
   "codemirror_mode": {
    "name": "ipython",
    "version": 3
   },
   "file_extension": ".py",
   "mimetype": "text/x-python",
   "name": "python",
   "nbconvert_exporter": "python",
   "pygments_lexer": "ipython3",
   "version": "3.12.3"
  }
 },
 "nbformat": 4,
 "nbformat_minor": 4
}
